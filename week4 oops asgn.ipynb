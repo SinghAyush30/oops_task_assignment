{
 "cells": [
  {
   "cell_type": "code",
   "execution_count": 2,
   "id": "3d452b88-bf47-4cc8-9c9c-9225392bfc65",
   "metadata": {},
   "outputs": [],
   "source": [
    "#Ans1)\n",
    "class vehicle:\n",
    "    def __init__(self,name,speed,avg_vhcl):\n",
    "        self.name_of_vehicle = name\n",
    "        self.max_speed = speed\n",
    "        self.average_of_vehicle = avg_vhcl"
   ]
  },
  {
   "cell_type": "code",
   "execution_count": 3,
   "id": "921698ca-fd4f-4686-bd9b-c7d4e3d5582b",
   "metadata": {},
   "outputs": [],
   "source": [
    "v = vehicle(\"toyota glanza\", 240, 20)"
   ]
  },
  {
   "cell_type": "code",
   "execution_count": 4,
   "id": "ac12aa40-9f8a-489a-8235-537eae235c9f",
   "metadata": {},
   "outputs": [
    {
     "data": {
      "text/plain": [
       "20"
      ]
     },
     "execution_count": 4,
     "metadata": {},
     "output_type": "execute_result"
    }
   ],
   "source": [
    "v.average_of_vehicle"
   ]
  },
  {
   "cell_type": "code",
   "execution_count": 5,
   "id": "c765c196-a168-439d-8ea9-833312ff2287",
   "metadata": {},
   "outputs": [
    {
     "data": {
      "text/plain": [
       "240"
      ]
     },
     "execution_count": 5,
     "metadata": {},
     "output_type": "execute_result"
    }
   ],
   "source": [
    "v.max_speed"
   ]
  },
  {
   "cell_type": "code",
   "execution_count": 6,
   "id": "7da0ba4b-5aff-417f-aa3d-e2788e1cc746",
   "metadata": {},
   "outputs": [
    {
     "data": {
      "text/plain": [
       "('toyota glanza', 5)"
      ]
     },
     "execution_count": 6,
     "metadata": {},
     "output_type": "execute_result"
    }
   ],
   "source": [
    "#Ans2)\n",
    "class car(vehicle):\n",
    "    def seating_capacity(self,capacity):\n",
    "        self.capacity = capacity\n",
    "        return self.name_of_vehicle , self.capacity\n",
    "v1 = car(\"toyota glanza\", 240, 20)\n",
    "v1.seating_capacity(5)"
   ]
  },
  {
   "cell_type": "markdown",
   "id": "983cd246-f85f-42ee-8198-5d140e61589b",
   "metadata": {},
   "source": [
    "Ans3) When a class is derived from more than one base class it is called multiple Inheritance. The derived class inherits all the features of the base case."
   ]
  },
  {
   "cell_type": "code",
   "execution_count": 7,
   "id": "46f33073-72ea-43b4-87dc-ed27acef818e",
   "metadata": {},
   "outputs": [],
   "source": [
    "#code to demonstrate multiple inheritance\n",
    "class mother:\n",
    "    def mother_name(self):\n",
    "        return \"My mother name is Reena Singh\"\n",
    "    \n",
    "class father:\n",
    "    def father_name(self):\n",
    "        return \"My father name is Rajesh Kumar Singh\"\n",
    "    \n",
    "class child(mother,father):\n",
    "    pass\n",
    "\n",
    "obj = child()"
   ]
  },
  {
   "cell_type": "code",
   "execution_count": 8,
   "id": "0f36b155-e853-4feb-9052-601caa791b5a",
   "metadata": {},
   "outputs": [
    {
     "data": {
      "text/plain": [
       "'My father name is Rajesh Kumar Singh'"
      ]
     },
     "execution_count": 8,
     "metadata": {},
     "output_type": "execute_result"
    }
   ],
   "source": [
    "obj.father_name()"
   ]
  },
  {
   "cell_type": "code",
   "execution_count": 9,
   "id": "4284af14-6620-4fe7-a4a0-6d3d694c602b",
   "metadata": {},
   "outputs": [
    {
     "data": {
      "text/plain": [
       "'My mother name is Reena Singh'"
      ]
     },
     "execution_count": 9,
     "metadata": {},
     "output_type": "execute_result"
    }
   ],
   "source": [
    "obj.mother_name()"
   ]
  },
  {
   "cell_type": "markdown",
   "id": "cf378f07-265b-4dc5-ad43-b8afb4d8f521",
   "metadata": {},
   "source": [
    "Ans4) Getter: A method that allows us to access an attribute in a given class.   \n",
    "Setter: A method that allows us to set or change the value of an attribute in a class."
   ]
  },
  {
   "cell_type": "code",
   "execution_count": 1,
   "id": "6f66651d-c6b5-4ff4-b2bf-21d600edeabb",
   "metadata": {},
   "outputs": [],
   "source": [
    "class bank_balance:\n",
    "    \n",
    "    def __init__(self,amount):\n",
    "        self.amount = amount\n",
    "        \n",
    "    def getter(self):\n",
    "        print (self.amount)\n",
    "           \n",
    "    def setter(self,deposit):\n",
    "        self.amount = self.amount + deposit"
   ]
  },
  {
   "cell_type": "code",
   "execution_count": 2,
   "id": "6eedf0c6-ff22-450d-831b-9653b3a9c7e9",
   "metadata": {},
   "outputs": [],
   "source": [
    "bb = bank_balance(1000)"
   ]
  },
  {
   "cell_type": "code",
   "execution_count": 3,
   "id": "76ad2609-3bde-43d4-825a-aad5738fd644",
   "metadata": {},
   "outputs": [
    {
     "name": "stdout",
     "output_type": "stream",
     "text": [
      "1000\n"
     ]
    }
   ],
   "source": [
    "bb.getter()"
   ]
  },
  {
   "cell_type": "code",
   "execution_count": 4,
   "id": "bd3515ee-0adf-4f09-9351-5ee18500ed1c",
   "metadata": {},
   "outputs": [],
   "source": [
    "bb.setter(400)"
   ]
  },
  {
   "cell_type": "code",
   "execution_count": 5,
   "id": "413f1684-ad18-4ff1-a8aa-0cd5304e1db1",
   "metadata": {},
   "outputs": [
    {
     "name": "stdout",
     "output_type": "stream",
     "text": [
      "1400\n"
     ]
    }
   ],
   "source": [
    "bb.getter()"
   ]
  },
  {
   "cell_type": "markdown",
   "id": "52d19292-973d-4139-929e-e83e5ef574c2",
   "metadata": {},
   "source": [
    "Ans5) Method overriding in Python is a feature that allows a subclass to provide a different implementation of a method that is already defined in its superclass. When a method in the subclass has the same name and parameters as a method in the superclass, it is said to be overriding the superclass method."
   ]
  },
  {
   "cell_type": "code",
   "execution_count": 6,
   "id": "de27339a-9464-4869-8cda-96888523e3ab",
   "metadata": {},
   "outputs": [],
   "source": [
    "class Animal:\n",
    "    def sound(self):\n",
    "        print(\"The animal makes a sound.\")\n",
    "\n",
    "class Dog(Animal):\n",
    "    def sound(self):\n",
    "        print(\"The dog barks.\")"
   ]
  },
  {
   "cell_type": "code",
   "execution_count": 7,
   "id": "1b9b1ec4-6f8e-4231-9b9a-1bfee2bfcedc",
   "metadata": {},
   "outputs": [],
   "source": [
    "animal = Animal()\n",
    "dog = Dog()"
   ]
  },
  {
   "cell_type": "code",
   "execution_count": 8,
   "id": "13ca3f45-a638-4c60-96f4-8573e9153fc6",
   "metadata": {},
   "outputs": [
    {
     "name": "stdout",
     "output_type": "stream",
     "text": [
      "The animal makes a sound.\n"
     ]
    }
   ],
   "source": [
    "animal.sound()"
   ]
  },
  {
   "cell_type": "code",
   "execution_count": 9,
   "id": "ea9cc9fc-3cbe-41b0-9e5b-f7391902792f",
   "metadata": {},
   "outputs": [
    {
     "name": "stdout",
     "output_type": "stream",
     "text": [
      "The dog barks.\n"
     ]
    }
   ],
   "source": [
    "dog.sound()"
   ]
  },
  {
   "cell_type": "markdown",
   "id": "59576de9-479f-4ba9-98a0-82c3a21f1121",
   "metadata": {},
   "source": [
    "here dog overrides the superclass (Animal) and gives different result for same method"
   ]
  },
  {
   "cell_type": "code",
   "execution_count": null,
   "id": "7ef58d73-671c-4673-b2e7-93049bda2fd9",
   "metadata": {},
   "outputs": [],
   "source": []
  }
 ],
 "metadata": {
  "kernelspec": {
   "display_name": "Python 3 (ipykernel)",
   "language": "python",
   "name": "python3"
  },
  "language_info": {
   "codemirror_mode": {
    "name": "ipython",
    "version": 3
   },
   "file_extension": ".py",
   "mimetype": "text/x-python",
   "name": "python",
   "nbconvert_exporter": "python",
   "pygments_lexer": "ipython3",
   "version": "3.10.8"
  }
 },
 "nbformat": 4,
 "nbformat_minor": 5
}
